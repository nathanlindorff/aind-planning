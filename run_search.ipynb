{
 "cells": [
  {
   "cell_type": "code",
   "execution_count": 9,
   "metadata": {
    "collapsed": false,
    "deletable": true,
    "editable": true
   },
   "outputs": [
    {
     "name": "stdout",
     "output_type": "stream",
     "text": [
      "\n",
      "Solving Air Cargo Problem 2 using astar_search with h_ignore_preconditions...\n",
      "\n",
      "Expansions   Goal Tests   New Nodes\n",
      "   1450        1452       13303   \n",
      "\n",
      "Plan length: 9  Time elapsed in seconds: 7.053414778789374\n",
      "Load(C1, P1, SFO)\n",
      "Fly(P1, SFO, JFK)\n",
      "Unload(C1, P1, JFK)\n",
      "Load(C2, P2, JFK)\n",
      "Fly(P2, JFK, SFO)\n",
      "Unload(C2, P2, SFO)\n",
      "Load(C3, P3, ATL)\n",
      "Fly(P3, ATL, SFO)\n",
      "Unload(C3, P3, SFO)\n",
      "\n"
     ]
    }
   ],
   "source": [
    "import run_search as search\n",
    "\n",
    "problems = set([2])\n",
    "searches = set([9])\n",
    "\n",
    "search.main(list(sorted(set(problems))), list(sorted(set((searches)))))"
   ]
  }
 ],
 "metadata": {
  "kernelspec": {
   "display_name": "Python 3",
   "language": "python",
   "name": "python3"
  }
 },
 "nbformat": 4,
 "nbformat_minor": 2
}
