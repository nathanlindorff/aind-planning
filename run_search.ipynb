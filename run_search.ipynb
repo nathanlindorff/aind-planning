{
 "cells": [
  {
   "cell_type": "code",
   "execution_count": 10,
   "metadata": {
    "collapsed": false
   },
   "outputs": [
    {
     "name": "stdout",
     "output_type": "stream",
     "text": [
      "\n",
      "Solving Air Cargo Problem 3 using greedy_best_first_graph_search with h_1...\n",
      "\n",
      "Expansions   Goal Tests   New Nodes\n",
      "   4453        4455       39607   \n",
      "\n",
      "Plan length: 26  Time elapsed in seconds: 18.85748651611857\n",
      "Load(C1, P1, SFO)\n",
      "Load(C2, P2, JFK)\n",
      "Fly(P1, SFO, ORD)\n",
      "Load(C4, P1, ORD)\n",
      "Fly(P2, JFK, ATL)\n",
      "Load(C3, P2, ATL)\n",
      "Fly(P2, ATL, ORD)\n",
      "Unload(C1, P1, ORD)\n",
      "Load(C1, P2, ORD)\n",
      "Fly(P1, ORD, ATL)\n",
      "Unload(C4, P1, ATL)\n",
      "Fly(P1, ATL, ORD)\n",
      "Fly(P2, ORD, ATL)\n",
      "Load(C4, P2, ATL)\n",
      "Fly(P2, ATL, ORD)\n",
      "Unload(C3, P2, ORD)\n",
      "Load(C3, P1, ORD)\n",
      "Unload(C1, P2, ORD)\n",
      "Load(C1, P1, ORD)\n",
      "Fly(P1, ORD, JFK)\n",
      "Unload(C1, P1, JFK)\n",
      "Unload(C3, P1, JFK)\n",
      "Fly(P1, JFK, ORD)\n",
      "Fly(P2, ORD, SFO)\n",
      "Unload(C2, P2, SFO)\n",
      "Unload(C4, P2, SFO)\n",
      "\n"
     ]
    }
   ],
   "source": [
    "import run_search as search\n",
    "\n",
    "problems = set([3])\n",
    "searches = set([7])\n",
    "\n",
    "search.main(list(sorted(set(problems))), list(sorted(set((searches)))))"
   ]
  },
  {
   "cell_type": "code",
   "execution_count": null,
   "metadata": {
    "collapsed": true
   },
   "outputs": [],
   "source": []
  }
 ],
 "metadata": {
  "kernelspec": {
   "display_name": "Python 3",
   "language": "python",
   "name": "python3"
  },
  "language_info": {
   "codemirror_mode": {
    "name": "ipython",
    "version": 3
   },
   "file_extension": ".py",
   "mimetype": "text/x-python",
   "name": "python",
   "nbconvert_exporter": "python",
   "pygments_lexer": "ipython3",
   "version": "3.6.0"
  }
 },
 "nbformat": 4,
 "nbformat_minor": 2
}
